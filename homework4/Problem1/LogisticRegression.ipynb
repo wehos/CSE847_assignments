{
 "cells": [
  {
   "cell_type": "code",
   "execution_count": 1,
   "id": "24e186ba",
   "metadata": {},
   "outputs": [],
   "source": [
    "import numpy as np\n",
    "\n",
    "# Calculate prediction based on data matrix X and weight vector w\n",
    "def predict(X, w):\n",
    "    return sigmoid(X@w)\n",
    "\n",
    "# Calculate sigmoid function\n",
    "def sigmoid(X):\n",
    "    return 1/(1+np.exp(-X))\n",
    "\n",
    "def logistic_train(data, labels, epsilon=1e-5, maxiter=1000):\n",
    "    # Zero initialization\n",
    "    weights = np.zeros((data.shape[1],1))\n",
    "        \n",
    "    n_iter = 0\n",
    "    tol = epsilon+1\n",
    "    n = data.shape[0];\n",
    "    last_prediction = predict(data, weights)\n",
    "    \n",
    "    while tol > epsilon and n_iter < maxiter:\n",
    "        # Calculate gradient based on prediction\n",
    "        g = np.mean(data.T @ (labels - last_prediction), 1).reshape(-1, 1)\n",
    "        # Update weights vector\n",
    "        weights += ETA * g;\n",
    "        \n",
    "        n_iter += 1\n",
    "        if n_iter>1:\n",
    "            # Calculate absolute difference in prediction\n",
    "            tol = np.mean(np.abs(last_prediction - predict(data, weights)))\n",
    "        last_prediction = predict(data, weights)\n",
    "        \n",
    "    return weights\n",
    "\n",
    "# Train model with first m rows of training data, evaluate it with testing data\n",
    "def evaluate(n):\n",
    "    w = logistic_train(X_train[:n], y_train[:n])\n",
    "    return (((X_test@w)>0) == y_test).mean()"
   ]
  },
  {
   "cell_type": "code",
   "execution_count": 2,
   "id": "15d3ff26",
   "metadata": {},
   "outputs": [],
   "source": [
    "# Load data from text file\n",
    "X = [[float(i) for i in line.strip().split('  ')] for line in open('data.txt', 'r').readlines()]\n",
    "y = [float(line.strip()) for line in open('labels.txt', 'r').readlines()]\n",
    "\n",
    "# Add ones column to X\n",
    "X = np.array(X)\n",
    "X = np.concatenate([X, np.ones([X.shape[0], 1])], 1)\n",
    "y = np.array(y).reshape(-1, 1)\n",
    "\n",
    "X_test = X[2000:]\n",
    "y_test = y[2000:]\n",
    "X_train = X[:2000]\n",
    "y_train = y[:2000]\n",
    "\n",
    "ETA = 1e-3"
   ]
  },
  {
   "cell_type": "code",
   "execution_count": 3,
   "id": "22fdf2e6",
   "metadata": {},
   "outputs": [
    {
     "name": "stdout",
     "output_type": "stream",
     "text": [
      "200 0.9277201076509035\n",
      "500 0.9331026528258363\n",
      "800 0.9315647827758554\n",
      "1000 0.9315647827758554\n",
      "1500 0.936562860438293\n",
      "2000 0.9381007304882737\n"
     ]
    }
   ],
   "source": [
    "for n in [200, 500, 800, 1000, 1500, 2000]:\n",
    "    print(n, evaluate(n))"
   ]
  },
  {
   "cell_type": "code",
   "execution_count": null,
   "id": "d88c6ad0",
   "metadata": {},
   "outputs": [],
   "source": []
  }
 ],
 "metadata": {
  "kernelspec": {
   "display_name": "Python 3",
   "language": "python",
   "name": "python3"
  },
  "language_info": {
   "codemirror_mode": {
    "name": "ipython",
    "version": 3
   },
   "file_extension": ".py",
   "mimetype": "text/x-python",
   "name": "python",
   "nbconvert_exporter": "python",
   "pygments_lexer": "ipython3",
   "version": "3.8.8"
  }
 },
 "nbformat": 4,
 "nbformat_minor": 5
}
